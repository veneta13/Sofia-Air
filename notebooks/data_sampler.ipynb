{
 "cells": [
  {
   "cell_type": "code",
   "execution_count": 1,
   "metadata": {
    "collapsed": true,
    "pycharm": {
     "name": "#%%\n"
    }
   },
   "outputs": [],
   "source": [
    "import pandas as pd"
   ]
  },
  {
   "cell_type": "code",
   "execution_count": 2,
   "outputs": [
    {
     "data": {
      "text/plain": "                      timest  station  param   level station_name  longitude  \\\n0        2016-01-20 16:00:00        1      1   81.79      Druzhba  23.400164   \n1        2016-01-20 16:00:00        2      1  106.47     Nadezhda  23.310972   \n2        2016-01-20 16:00:00        3      1  121.81  Krasno selo  23.400164   \n3        2016-01-20 16:00:00        4      1  140.35      Pavlovo  23.268403   \n4        2016-01-20 16:00:00        5      1   25.27     Kopitoto  23.268403   \n...                      ...      ...    ...     ...          ...        ...   \n1241650  2018-06-19 10:00:00        5     10    0.00     Kopitoto  23.268403   \n1241651  2018-06-19 10:00:00        5     11    0.00     Kopitoto  23.268403   \n1241652  2018-06-19 10:00:00        6      9    0.00      Mladost  23.383271   \n1241653  2018-06-19 10:00:00        6     10    0.00      Mladost  23.383271   \n1241654  2018-06-19 10:00:00        6     11    0.00      Mladost  23.383271   \n\n          latitude     param_name  \n0        42.666508            NO2  \n1        42.732292            NO2  \n2        42.666508            NO2  \n3        42.669797            NO2  \n4        42.669797            NO2  \n...            ...            ...  \n1241650  42.669797  Sun radiation  \n1241651  42.669797    Temperature  \n1241652  42.655488           Wind  \n1241653  42.655488  Sun radiation  \n1241654  42.655488    Temperature  \n\n[1241655 rows x 8 columns]",
      "text/html": "<div>\n<style scoped>\n    .dataframe tbody tr th:only-of-type {\n        vertical-align: middle;\n    }\n\n    .dataframe tbody tr th {\n        vertical-align: top;\n    }\n\n    .dataframe thead th {\n        text-align: right;\n    }\n</style>\n<table border=\"1\" class=\"dataframe\">\n  <thead>\n    <tr style=\"text-align: right;\">\n      <th></th>\n      <th>timest</th>\n      <th>station</th>\n      <th>param</th>\n      <th>level</th>\n      <th>station_name</th>\n      <th>longitude</th>\n      <th>latitude</th>\n      <th>param_name</th>\n    </tr>\n  </thead>\n  <tbody>\n    <tr>\n      <th>0</th>\n      <td>2016-01-20 16:00:00</td>\n      <td>1</td>\n      <td>1</td>\n      <td>81.79</td>\n      <td>Druzhba</td>\n      <td>23.400164</td>\n      <td>42.666508</td>\n      <td>NO2</td>\n    </tr>\n    <tr>\n      <th>1</th>\n      <td>2016-01-20 16:00:00</td>\n      <td>2</td>\n      <td>1</td>\n      <td>106.47</td>\n      <td>Nadezhda</td>\n      <td>23.310972</td>\n      <td>42.732292</td>\n      <td>NO2</td>\n    </tr>\n    <tr>\n      <th>2</th>\n      <td>2016-01-20 16:00:00</td>\n      <td>3</td>\n      <td>1</td>\n      <td>121.81</td>\n      <td>Krasno selo</td>\n      <td>23.400164</td>\n      <td>42.666508</td>\n      <td>NO2</td>\n    </tr>\n    <tr>\n      <th>3</th>\n      <td>2016-01-20 16:00:00</td>\n      <td>4</td>\n      <td>1</td>\n      <td>140.35</td>\n      <td>Pavlovo</td>\n      <td>23.268403</td>\n      <td>42.669797</td>\n      <td>NO2</td>\n    </tr>\n    <tr>\n      <th>4</th>\n      <td>2016-01-20 16:00:00</td>\n      <td>5</td>\n      <td>1</td>\n      <td>25.27</td>\n      <td>Kopitoto</td>\n      <td>23.268403</td>\n      <td>42.669797</td>\n      <td>NO2</td>\n    </tr>\n    <tr>\n      <th>...</th>\n      <td>...</td>\n      <td>...</td>\n      <td>...</td>\n      <td>...</td>\n      <td>...</td>\n      <td>...</td>\n      <td>...</td>\n      <td>...</td>\n    </tr>\n    <tr>\n      <th>1241650</th>\n      <td>2018-06-19 10:00:00</td>\n      <td>5</td>\n      <td>10</td>\n      <td>0.00</td>\n      <td>Kopitoto</td>\n      <td>23.268403</td>\n      <td>42.669797</td>\n      <td>Sun radiation</td>\n    </tr>\n    <tr>\n      <th>1241651</th>\n      <td>2018-06-19 10:00:00</td>\n      <td>5</td>\n      <td>11</td>\n      <td>0.00</td>\n      <td>Kopitoto</td>\n      <td>23.268403</td>\n      <td>42.669797</td>\n      <td>Temperature</td>\n    </tr>\n    <tr>\n      <th>1241652</th>\n      <td>2018-06-19 10:00:00</td>\n      <td>6</td>\n      <td>9</td>\n      <td>0.00</td>\n      <td>Mladost</td>\n      <td>23.383271</td>\n      <td>42.655488</td>\n      <td>Wind</td>\n    </tr>\n    <tr>\n      <th>1241653</th>\n      <td>2018-06-19 10:00:00</td>\n      <td>6</td>\n      <td>10</td>\n      <td>0.00</td>\n      <td>Mladost</td>\n      <td>23.383271</td>\n      <td>42.655488</td>\n      <td>Sun radiation</td>\n    </tr>\n    <tr>\n      <th>1241654</th>\n      <td>2018-06-19 10:00:00</td>\n      <td>6</td>\n      <td>11</td>\n      <td>0.00</td>\n      <td>Mladost</td>\n      <td>23.383271</td>\n      <td>42.655488</td>\n      <td>Temperature</td>\n    </tr>\n  </tbody>\n</table>\n<p>1241655 rows × 8 columns</p>\n</div>"
     },
     "execution_count": 2,
     "metadata": {},
     "output_type": "execute_result"
    }
   ],
   "source": [
    "df = pd.read_csv('../data/Archive_Sofia_stations_processed.csv')\n",
    "df"
   ],
   "metadata": {
    "collapsed": false,
    "pycharm": {
     "name": "#%%\n"
    }
   }
  },
  {
   "cell_type": "code",
   "execution_count": 4,
   "outputs": [
    {
     "data": {
      "text/plain": "                      timest  station  param   level station_name  longitude  \\\n1008394  2018-01-14 07:00:00        1      8  955.97      Druzhba  23.400164   \n202812   2016-06-12 20:00:00        4      2    1.37      Pavlovo  23.268403   \n285097   2016-09-04 15:00:00        6     11   28.66      Mladost  23.383271   \n810314   2017-08-28 20:00:00        2     11   27.57     Nadezhda  23.310972   \n439587   2016-12-15 22:00:00        3      1   22.25  Krasno selo  23.400164   \n...                      ...      ...    ...     ...          ...        ...   \n1237682  2018-06-16 04:00:00        4     10   16.67      Pavlovo  23.268403   \n301882   2016-09-15 16:00:00        4      1   29.00      Pavlovo  23.268403   \n343551   2016-10-13 10:00:00        4      4    0.43      Pavlovo  23.268403   \n1053389  2018-02-13 11:00:00        4      5    8.24      Pavlovo  23.268403   \n751382   2017-07-20 20:00:00        5      5   91.15     Kopitoto  23.268403   \n\n          latitude            param_name  \n1008394  42.666508  Atmospheric pressure  \n202812   42.669797                    NO  \n285097   42.655488           Temperature  \n810314   42.732292           Temperature  \n439587   42.666508                   NO2  \n...            ...                   ...  \n1237682  42.669797         Sun radiation  \n301882   42.669797                   NO2  \n343551   42.669797                    CO  \n1053389  42.669797                    O3  \n751382   42.669797                    O3  \n\n[5000 rows x 8 columns]",
      "text/html": "<div>\n<style scoped>\n    .dataframe tbody tr th:only-of-type {\n        vertical-align: middle;\n    }\n\n    .dataframe tbody tr th {\n        vertical-align: top;\n    }\n\n    .dataframe thead th {\n        text-align: right;\n    }\n</style>\n<table border=\"1\" class=\"dataframe\">\n  <thead>\n    <tr style=\"text-align: right;\">\n      <th></th>\n      <th>timest</th>\n      <th>station</th>\n      <th>param</th>\n      <th>level</th>\n      <th>station_name</th>\n      <th>longitude</th>\n      <th>latitude</th>\n      <th>param_name</th>\n    </tr>\n  </thead>\n  <tbody>\n    <tr>\n      <th>1008394</th>\n      <td>2018-01-14 07:00:00</td>\n      <td>1</td>\n      <td>8</td>\n      <td>955.97</td>\n      <td>Druzhba</td>\n      <td>23.400164</td>\n      <td>42.666508</td>\n      <td>Atmospheric pressure</td>\n    </tr>\n    <tr>\n      <th>202812</th>\n      <td>2016-06-12 20:00:00</td>\n      <td>4</td>\n      <td>2</td>\n      <td>1.37</td>\n      <td>Pavlovo</td>\n      <td>23.268403</td>\n      <td>42.669797</td>\n      <td>NO</td>\n    </tr>\n    <tr>\n      <th>285097</th>\n      <td>2016-09-04 15:00:00</td>\n      <td>6</td>\n      <td>11</td>\n      <td>28.66</td>\n      <td>Mladost</td>\n      <td>23.383271</td>\n      <td>42.655488</td>\n      <td>Temperature</td>\n    </tr>\n    <tr>\n      <th>810314</th>\n      <td>2017-08-28 20:00:00</td>\n      <td>2</td>\n      <td>11</td>\n      <td>27.57</td>\n      <td>Nadezhda</td>\n      <td>23.310972</td>\n      <td>42.732292</td>\n      <td>Temperature</td>\n    </tr>\n    <tr>\n      <th>439587</th>\n      <td>2016-12-15 22:00:00</td>\n      <td>3</td>\n      <td>1</td>\n      <td>22.25</td>\n      <td>Krasno selo</td>\n      <td>23.400164</td>\n      <td>42.666508</td>\n      <td>NO2</td>\n    </tr>\n    <tr>\n      <th>...</th>\n      <td>...</td>\n      <td>...</td>\n      <td>...</td>\n      <td>...</td>\n      <td>...</td>\n      <td>...</td>\n      <td>...</td>\n      <td>...</td>\n    </tr>\n    <tr>\n      <th>1237682</th>\n      <td>2018-06-16 04:00:00</td>\n      <td>4</td>\n      <td>10</td>\n      <td>16.67</td>\n      <td>Pavlovo</td>\n      <td>23.268403</td>\n      <td>42.669797</td>\n      <td>Sun radiation</td>\n    </tr>\n    <tr>\n      <th>301882</th>\n      <td>2016-09-15 16:00:00</td>\n      <td>4</td>\n      <td>1</td>\n      <td>29.00</td>\n      <td>Pavlovo</td>\n      <td>23.268403</td>\n      <td>42.669797</td>\n      <td>NO2</td>\n    </tr>\n    <tr>\n      <th>343551</th>\n      <td>2016-10-13 10:00:00</td>\n      <td>4</td>\n      <td>4</td>\n      <td>0.43</td>\n      <td>Pavlovo</td>\n      <td>23.268403</td>\n      <td>42.669797</td>\n      <td>CO</td>\n    </tr>\n    <tr>\n      <th>1053389</th>\n      <td>2018-02-13 11:00:00</td>\n      <td>4</td>\n      <td>5</td>\n      <td>8.24</td>\n      <td>Pavlovo</td>\n      <td>23.268403</td>\n      <td>42.669797</td>\n      <td>O3</td>\n    </tr>\n    <tr>\n      <th>751382</th>\n      <td>2017-07-20 20:00:00</td>\n      <td>5</td>\n      <td>5</td>\n      <td>91.15</td>\n      <td>Kopitoto</td>\n      <td>23.268403</td>\n      <td>42.669797</td>\n      <td>O3</td>\n    </tr>\n  </tbody>\n</table>\n<p>5000 rows × 8 columns</p>\n</div>"
     },
     "execution_count": 4,
     "metadata": {},
     "output_type": "execute_result"
    }
   ],
   "source": [
    "sample = df.sample(n=5000)\n",
    "sample"
   ],
   "metadata": {
    "collapsed": false,
    "pycharm": {
     "name": "#%%\n"
    }
   }
  },
  {
   "cell_type": "code",
   "execution_count": 6,
   "outputs": [],
   "source": [
    "sample.to_csv('../data/sample.csv', index=False)"
   ],
   "metadata": {
    "collapsed": false,
    "pycharm": {
     "name": "#%%\n"
    }
   }
  }
 ],
 "metadata": {
  "kernelspec": {
   "display_name": "Python 3",
   "language": "python",
   "name": "python3"
  },
  "language_info": {
   "codemirror_mode": {
    "name": "ipython",
    "version": 2
   },
   "file_extension": ".py",
   "mimetype": "text/x-python",
   "name": "python",
   "nbconvert_exporter": "python",
   "pygments_lexer": "ipython2",
   "version": "2.7.6"
  }
 },
 "nbformat": 4,
 "nbformat_minor": 0
}