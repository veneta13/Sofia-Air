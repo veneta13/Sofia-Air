{
 "cells": [
  {
   "cell_type": "code",
   "execution_count": 2,
   "metadata": {
    "collapsed": true,
    "pycharm": {
     "name": "#%%\n"
    }
   },
   "outputs": [],
   "source": [
    "import pandas as pd"
   ]
  },
  {
   "cell_type": "code",
   "execution_count": 21,
   "outputs": [
    {
     "data": {
      "text/plain": "0                     timest station param   level isinvalid\n1        2016-01-20 16:00:00       1     1   81.79         0\n2        2016-01-20 16:00:00       2     1  106.47         0\n3        2016-01-20 16:00:00       3     1  121.81         0\n4        2016-01-20 16:00:00       4     1  140.35         0\n5        2016-01-20 16:00:00       5     1   25.27         0\n...                      ...     ...   ...     ...       ...\n1252194  2018-06-19 10:00:00       5    10       0         0\n1252195  2018-06-19 10:00:00       5    11       0         0\n1252196  2018-06-19 10:00:00       6     9       0         0\n1252197  2018-06-19 10:00:00       6    10       0         0\n1252198  2018-06-19 10:00:00       6    11       0         0\n\n[1252198 rows x 5 columns]",
      "text/html": "<div>\n<style scoped>\n    .dataframe tbody tr th:only-of-type {\n        vertical-align: middle;\n    }\n\n    .dataframe tbody tr th {\n        vertical-align: top;\n    }\n\n    .dataframe thead th {\n        text-align: right;\n    }\n</style>\n<table border=\"1\" class=\"dataframe\">\n  <thead>\n    <tr style=\"text-align: right;\">\n      <th></th>\n      <th>timest</th>\n      <th>station</th>\n      <th>param</th>\n      <th>level</th>\n      <th>isinvalid</th>\n    </tr>\n  </thead>\n  <tbody>\n    <tr>\n      <th>1</th>\n      <td>2016-01-20 16:00:00</td>\n      <td>1</td>\n      <td>1</td>\n      <td>81.79</td>\n      <td>0</td>\n    </tr>\n    <tr>\n      <th>2</th>\n      <td>2016-01-20 16:00:00</td>\n      <td>2</td>\n      <td>1</td>\n      <td>106.47</td>\n      <td>0</td>\n    </tr>\n    <tr>\n      <th>3</th>\n      <td>2016-01-20 16:00:00</td>\n      <td>3</td>\n      <td>1</td>\n      <td>121.81</td>\n      <td>0</td>\n    </tr>\n    <tr>\n      <th>4</th>\n      <td>2016-01-20 16:00:00</td>\n      <td>4</td>\n      <td>1</td>\n      <td>140.35</td>\n      <td>0</td>\n    </tr>\n    <tr>\n      <th>5</th>\n      <td>2016-01-20 16:00:00</td>\n      <td>5</td>\n      <td>1</td>\n      <td>25.27</td>\n      <td>0</td>\n    </tr>\n    <tr>\n      <th>...</th>\n      <td>...</td>\n      <td>...</td>\n      <td>...</td>\n      <td>...</td>\n      <td>...</td>\n    </tr>\n    <tr>\n      <th>1252194</th>\n      <td>2018-06-19 10:00:00</td>\n      <td>5</td>\n      <td>10</td>\n      <td>0</td>\n      <td>0</td>\n    </tr>\n    <tr>\n      <th>1252195</th>\n      <td>2018-06-19 10:00:00</td>\n      <td>5</td>\n      <td>11</td>\n      <td>0</td>\n      <td>0</td>\n    </tr>\n    <tr>\n      <th>1252196</th>\n      <td>2018-06-19 10:00:00</td>\n      <td>6</td>\n      <td>9</td>\n      <td>0</td>\n      <td>0</td>\n    </tr>\n    <tr>\n      <th>1252197</th>\n      <td>2018-06-19 10:00:00</td>\n      <td>6</td>\n      <td>10</td>\n      <td>0</td>\n      <td>0</td>\n    </tr>\n    <tr>\n      <th>1252198</th>\n      <td>2018-06-19 10:00:00</td>\n      <td>6</td>\n      <td>11</td>\n      <td>0</td>\n      <td>0</td>\n    </tr>\n  </tbody>\n</table>\n<p>1252198 rows × 5 columns</p>\n</div>"
     },
     "execution_count": 21,
     "metadata": {},
     "output_type": "execute_result"
    }
   ],
   "source": [
    "df = pd.read_json('../data/Archive_Sofia_stations_RAW.json')\n",
    "df.columns = df.iloc[0] # set first row as header\n",
    "df = df.iloc[1: , :] # drop header\n",
    "df"
   ],
   "metadata": {
    "collapsed": false,
    "pycharm": {
     "name": "#%%\n"
    }
   }
  },
  {
   "cell_type": "code",
   "execution_count": 22,
   "outputs": [
    {
     "name": "stdout",
     "output_type": "stream",
     "text": [
      "<class 'pandas.core.frame.DataFrame'>\n",
      "RangeIndex: 1252198 entries, 1 to 1252198\n",
      "Data columns (total 5 columns):\n",
      " #   Column     Non-Null Count    Dtype \n",
      "---  ------     --------------    ----- \n",
      " 0   timest     1252198 non-null  object\n",
      " 1   station    1252198 non-null  object\n",
      " 2   param      1252198 non-null  object\n",
      " 3   level      1252198 non-null  object\n",
      " 4   isinvalid  1252198 non-null  object\n",
      "dtypes: object(5)\n",
      "memory usage: 47.8+ MB\n"
     ]
    }
   ],
   "source": [
    "df.info()"
   ],
   "metadata": {
    "collapsed": false,
    "pycharm": {
     "name": "#%%\n"
    }
   }
  },
  {
   "cell_type": "markdown",
   "source": [
    "No NaN values in the dataset."
   ],
   "metadata": {
    "collapsed": false,
    "pycharm": {
     "name": "#%% md\n"
    }
   }
  },
  {
   "cell_type": "code",
   "execution_count": 23,
   "outputs": [
    {
     "data": {
      "text/plain": "isinvalid\n0            1241655\n1              10543\ndtype: int64"
     },
     "execution_count": 23,
     "metadata": {},
     "output_type": "execute_result"
    }
   ],
   "source": [
    "df.value_counts(['isinvalid'])"
   ],
   "metadata": {
    "collapsed": false,
    "pycharm": {
     "name": "#%%\n"
    }
   }
  }
 ],
 "metadata": {
  "kernelspec": {
   "display_name": "Python 3",
   "language": "python",
   "name": "python3"
  },
  "language_info": {
   "codemirror_mode": {
    "name": "ipython",
    "version": 2
   },
   "file_extension": ".py",
   "mimetype": "text/x-python",
   "name": "python",
   "nbconvert_exporter": "python",
   "pygments_lexer": "ipython2",
   "version": "2.7.6"
  }
 },
 "nbformat": 4,
 "nbformat_minor": 0
}