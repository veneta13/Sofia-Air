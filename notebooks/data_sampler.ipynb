{
 "cells": [
  {
   "cell_type": "code",
   "execution_count": 7,
   "metadata": {
    "collapsed": true,
    "pycharm": {
     "name": "#%%\n"
    }
   },
   "outputs": [],
   "source": [
    "import pandas as pd"
   ]
  },
  {
   "cell_type": "code",
   "execution_count": 8,
   "outputs": [
    {
     "data": {
      "text/plain": "                      timest  station  param   level station_name  longitude  \\\n0        2016-01-20 16:00:00        1      1   81.79      Druzhba  23.400164   \n1        2016-01-20 16:00:00        2      1  106.47     Nadezhda  23.310972   \n2        2016-01-20 16:00:00        3      1  121.81  Krasno selo  23.296786   \n3        2016-01-20 16:00:00        4      1  140.35      Pavlovo  23.268403   \n4        2016-01-20 16:00:00        5      1   25.27     Kopitoto  23.243864   \n...                      ...      ...    ...     ...          ...        ...   \n1241650  2018-06-19 10:00:00        5     10    0.00     Kopitoto  23.243864   \n1241651  2018-06-19 10:00:00        5     11    0.00     Kopitoto  23.243864   \n1241652  2018-06-19 10:00:00        6      9    0.00      Mladost  23.383271   \n1241653  2018-06-19 10:00:00        6     10    0.00      Mladost  23.383271   \n1241654  2018-06-19 10:00:00        6     11    0.00      Mladost  23.383271   \n\n          latitude     param_name  \n0        42.666508            NO2  \n1        42.732292            NO2  \n2        42.680558            NO2  \n3        42.669797            NO2  \n4        42.637192            NO2  \n...            ...            ...  \n1241650  42.637192  Sun radiation  \n1241651  42.637192    Temperature  \n1241652  42.655488           Wind  \n1241653  42.655488  Sun radiation  \n1241654  42.655488    Temperature  \n\n[1241655 rows x 8 columns]",
      "text/html": "<div>\n<style scoped>\n    .dataframe tbody tr th:only-of-type {\n        vertical-align: middle;\n    }\n\n    .dataframe tbody tr th {\n        vertical-align: top;\n    }\n\n    .dataframe thead th {\n        text-align: right;\n    }\n</style>\n<table border=\"1\" class=\"dataframe\">\n  <thead>\n    <tr style=\"text-align: right;\">\n      <th></th>\n      <th>timest</th>\n      <th>station</th>\n      <th>param</th>\n      <th>level</th>\n      <th>station_name</th>\n      <th>longitude</th>\n      <th>latitude</th>\n      <th>param_name</th>\n    </tr>\n  </thead>\n  <tbody>\n    <tr>\n      <th>0</th>\n      <td>2016-01-20 16:00:00</td>\n      <td>1</td>\n      <td>1</td>\n      <td>81.79</td>\n      <td>Druzhba</td>\n      <td>23.400164</td>\n      <td>42.666508</td>\n      <td>NO2</td>\n    </tr>\n    <tr>\n      <th>1</th>\n      <td>2016-01-20 16:00:00</td>\n      <td>2</td>\n      <td>1</td>\n      <td>106.47</td>\n      <td>Nadezhda</td>\n      <td>23.310972</td>\n      <td>42.732292</td>\n      <td>NO2</td>\n    </tr>\n    <tr>\n      <th>2</th>\n      <td>2016-01-20 16:00:00</td>\n      <td>3</td>\n      <td>1</td>\n      <td>121.81</td>\n      <td>Krasno selo</td>\n      <td>23.296786</td>\n      <td>42.680558</td>\n      <td>NO2</td>\n    </tr>\n    <tr>\n      <th>3</th>\n      <td>2016-01-20 16:00:00</td>\n      <td>4</td>\n      <td>1</td>\n      <td>140.35</td>\n      <td>Pavlovo</td>\n      <td>23.268403</td>\n      <td>42.669797</td>\n      <td>NO2</td>\n    </tr>\n    <tr>\n      <th>4</th>\n      <td>2016-01-20 16:00:00</td>\n      <td>5</td>\n      <td>1</td>\n      <td>25.27</td>\n      <td>Kopitoto</td>\n      <td>23.243864</td>\n      <td>42.637192</td>\n      <td>NO2</td>\n    </tr>\n    <tr>\n      <th>...</th>\n      <td>...</td>\n      <td>...</td>\n      <td>...</td>\n      <td>...</td>\n      <td>...</td>\n      <td>...</td>\n      <td>...</td>\n      <td>...</td>\n    </tr>\n    <tr>\n      <th>1241650</th>\n      <td>2018-06-19 10:00:00</td>\n      <td>5</td>\n      <td>10</td>\n      <td>0.00</td>\n      <td>Kopitoto</td>\n      <td>23.243864</td>\n      <td>42.637192</td>\n      <td>Sun radiation</td>\n    </tr>\n    <tr>\n      <th>1241651</th>\n      <td>2018-06-19 10:00:00</td>\n      <td>5</td>\n      <td>11</td>\n      <td>0.00</td>\n      <td>Kopitoto</td>\n      <td>23.243864</td>\n      <td>42.637192</td>\n      <td>Temperature</td>\n    </tr>\n    <tr>\n      <th>1241652</th>\n      <td>2018-06-19 10:00:00</td>\n      <td>6</td>\n      <td>9</td>\n      <td>0.00</td>\n      <td>Mladost</td>\n      <td>23.383271</td>\n      <td>42.655488</td>\n      <td>Wind</td>\n    </tr>\n    <tr>\n      <th>1241653</th>\n      <td>2018-06-19 10:00:00</td>\n      <td>6</td>\n      <td>10</td>\n      <td>0.00</td>\n      <td>Mladost</td>\n      <td>23.383271</td>\n      <td>42.655488</td>\n      <td>Sun radiation</td>\n    </tr>\n    <tr>\n      <th>1241654</th>\n      <td>2018-06-19 10:00:00</td>\n      <td>6</td>\n      <td>11</td>\n      <td>0.00</td>\n      <td>Mladost</td>\n      <td>23.383271</td>\n      <td>42.655488</td>\n      <td>Temperature</td>\n    </tr>\n  </tbody>\n</table>\n<p>1241655 rows × 8 columns</p>\n</div>"
     },
     "execution_count": 8,
     "metadata": {},
     "output_type": "execute_result"
    }
   ],
   "source": [
    "df = pd.read_csv('../data/Archive_Sofia_stations_processed.csv')\n",
    "df"
   ],
   "metadata": {
    "collapsed": false,
    "pycharm": {
     "name": "#%%\n"
    }
   }
  },
  {
   "cell_type": "code",
   "execution_count": 9,
   "outputs": [
    {
     "data": {
      "text/plain": "                     timest  station  param  level station_name  longitude  \\\n926886  2017-11-17 05:00:00        2      7  86.30     Nadezhda  23.310972   \n899255  2017-10-29 20:00:00        4      9   5.19      Pavlovo  23.268403   \n792578  2017-08-16 23:00:00        4      7  56.50      Pavlovo  23.268403   \n246711  2016-08-08 02:00:00        6     11  18.75      Mladost  23.383271   \n197752  2016-06-07 12:00:00        1     11   0.00      Druzhba  23.400164   \n...                     ...      ...    ...    ...          ...        ...   \n327811  2016-10-03 00:00:00        4      2   1.76      Pavlovo  23.268403   \n285742  2016-09-05 01:00:00        1      3   0.72      Druzhba  23.400164   \n251041  2016-08-11 02:00:00        4     11  19.05      Pavlovo  23.268403   \n143525  2016-04-24 14:00:00        4      6   3.68      Pavlovo  23.268403   \n163611  2016-05-08 09:00:00        5      4  -0.11     Kopitoto  23.243864   \n\n         latitude   param_name  \n926886  42.732292     Humidity  \n899255  42.669797         Wind  \n792578  42.669797     Humidity  \n246711  42.655488  Temperature  \n197752  42.666508  Temperature  \n...           ...          ...  \n327811  42.669797           NO  \n285742  42.666508         C6H6  \n251041  42.669797  Temperature  \n143525  42.669797          SO2  \n163611  42.637192           CO  \n\n[5000 rows x 8 columns]",
      "text/html": "<div>\n<style scoped>\n    .dataframe tbody tr th:only-of-type {\n        vertical-align: middle;\n    }\n\n    .dataframe tbody tr th {\n        vertical-align: top;\n    }\n\n    .dataframe thead th {\n        text-align: right;\n    }\n</style>\n<table border=\"1\" class=\"dataframe\">\n  <thead>\n    <tr style=\"text-align: right;\">\n      <th></th>\n      <th>timest</th>\n      <th>station</th>\n      <th>param</th>\n      <th>level</th>\n      <th>station_name</th>\n      <th>longitude</th>\n      <th>latitude</th>\n      <th>param_name</th>\n    </tr>\n  </thead>\n  <tbody>\n    <tr>\n      <th>926886</th>\n      <td>2017-11-17 05:00:00</td>\n      <td>2</td>\n      <td>7</td>\n      <td>86.30</td>\n      <td>Nadezhda</td>\n      <td>23.310972</td>\n      <td>42.732292</td>\n      <td>Humidity</td>\n    </tr>\n    <tr>\n      <th>899255</th>\n      <td>2017-10-29 20:00:00</td>\n      <td>4</td>\n      <td>9</td>\n      <td>5.19</td>\n      <td>Pavlovo</td>\n      <td>23.268403</td>\n      <td>42.669797</td>\n      <td>Wind</td>\n    </tr>\n    <tr>\n      <th>792578</th>\n      <td>2017-08-16 23:00:00</td>\n      <td>4</td>\n      <td>7</td>\n      <td>56.50</td>\n      <td>Pavlovo</td>\n      <td>23.268403</td>\n      <td>42.669797</td>\n      <td>Humidity</td>\n    </tr>\n    <tr>\n      <th>246711</th>\n      <td>2016-08-08 02:00:00</td>\n      <td>6</td>\n      <td>11</td>\n      <td>18.75</td>\n      <td>Mladost</td>\n      <td>23.383271</td>\n      <td>42.655488</td>\n      <td>Temperature</td>\n    </tr>\n    <tr>\n      <th>197752</th>\n      <td>2016-06-07 12:00:00</td>\n      <td>1</td>\n      <td>11</td>\n      <td>0.00</td>\n      <td>Druzhba</td>\n      <td>23.400164</td>\n      <td>42.666508</td>\n      <td>Temperature</td>\n    </tr>\n    <tr>\n      <th>...</th>\n      <td>...</td>\n      <td>...</td>\n      <td>...</td>\n      <td>...</td>\n      <td>...</td>\n      <td>...</td>\n      <td>...</td>\n      <td>...</td>\n    </tr>\n    <tr>\n      <th>327811</th>\n      <td>2016-10-03 00:00:00</td>\n      <td>4</td>\n      <td>2</td>\n      <td>1.76</td>\n      <td>Pavlovo</td>\n      <td>23.268403</td>\n      <td>42.669797</td>\n      <td>NO</td>\n    </tr>\n    <tr>\n      <th>285742</th>\n      <td>2016-09-05 01:00:00</td>\n      <td>1</td>\n      <td>3</td>\n      <td>0.72</td>\n      <td>Druzhba</td>\n      <td>23.400164</td>\n      <td>42.666508</td>\n      <td>C6H6</td>\n    </tr>\n    <tr>\n      <th>251041</th>\n      <td>2016-08-11 02:00:00</td>\n      <td>4</td>\n      <td>11</td>\n      <td>19.05</td>\n      <td>Pavlovo</td>\n      <td>23.268403</td>\n      <td>42.669797</td>\n      <td>Temperature</td>\n    </tr>\n    <tr>\n      <th>143525</th>\n      <td>2016-04-24 14:00:00</td>\n      <td>4</td>\n      <td>6</td>\n      <td>3.68</td>\n      <td>Pavlovo</td>\n      <td>23.268403</td>\n      <td>42.669797</td>\n      <td>SO2</td>\n    </tr>\n    <tr>\n      <th>163611</th>\n      <td>2016-05-08 09:00:00</td>\n      <td>5</td>\n      <td>4</td>\n      <td>-0.11</td>\n      <td>Kopitoto</td>\n      <td>23.243864</td>\n      <td>42.637192</td>\n      <td>CO</td>\n    </tr>\n  </tbody>\n</table>\n<p>5000 rows × 8 columns</p>\n</div>"
     },
     "execution_count": 9,
     "metadata": {},
     "output_type": "execute_result"
    }
   ],
   "source": [
    "sample = df.sample(n=5000)\n",
    "sample"
   ],
   "metadata": {
    "collapsed": false,
    "pycharm": {
     "name": "#%%\n"
    }
   }
  },
  {
   "cell_type": "code",
   "execution_count": 10,
   "outputs": [],
   "source": [
    "sample.to_csv('../data/sample.csv', index=False)"
   ],
   "metadata": {
    "collapsed": false,
    "pycharm": {
     "name": "#%%\n"
    }
   }
  }
 ],
 "metadata": {
  "kernelspec": {
   "display_name": "Python 3",
   "language": "python",
   "name": "python3"
  },
  "language_info": {
   "codemirror_mode": {
    "name": "ipython",
    "version": 2
   },
   "file_extension": ".py",
   "mimetype": "text/x-python",
   "name": "python",
   "nbconvert_exporter": "python",
   "pygments_lexer": "ipython2",
   "version": "2.7.6"
  }
 },
 "nbformat": 4,
 "nbformat_minor": 0
}