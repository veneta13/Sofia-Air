{
 "cells": [
  {
   "cell_type": "markdown",
   "source": [
    "# Load data"
   ],
   "metadata": {
    "collapsed": false,
    "pycharm": {
     "name": "#%% md\n"
    }
   }
  },
  {
   "cell_type": "code",
   "execution_count": 22,
   "outputs": [],
   "source": [
    "import pandas as pd\n",
    "import numpy as np"
   ],
   "metadata": {
    "collapsed": false,
    "pycharm": {
     "name": "#%%\n"
    }
   }
  },
  {
   "cell_type": "code",
   "execution_count": 23,
   "metadata": {
    "collapsed": true,
    "pycharm": {
     "name": "#%%\n"
    }
   },
   "outputs": [
    {
     "data": {
      "text/plain": "0                     timest station param   level isinvalid\n1        2016-01-20 16:00:00       1     1   81.79         0\n2        2016-01-20 16:00:00       2     1  106.47         0\n3        2016-01-20 16:00:00       3     1  121.81         0\n4        2016-01-20 16:00:00       4     1  140.35         0\n5        2016-01-20 16:00:00       5     1   25.27         0\n...                      ...     ...   ...     ...       ...\n1252194  2018-06-19 10:00:00       5    10       0         0\n1252195  2018-06-19 10:00:00       5    11       0         0\n1252196  2018-06-19 10:00:00       6     9       0         0\n1252197  2018-06-19 10:00:00       6    10       0         0\n1252198  2018-06-19 10:00:00       6    11       0         0\n\n[1252198 rows x 5 columns]",
      "text/html": "<div>\n<style scoped>\n    .dataframe tbody tr th:only-of-type {\n        vertical-align: middle;\n    }\n\n    .dataframe tbody tr th {\n        vertical-align: top;\n    }\n\n    .dataframe thead th {\n        text-align: right;\n    }\n</style>\n<table border=\"1\" class=\"dataframe\">\n  <thead>\n    <tr style=\"text-align: right;\">\n      <th></th>\n      <th>timest</th>\n      <th>station</th>\n      <th>param</th>\n      <th>level</th>\n      <th>isinvalid</th>\n    </tr>\n  </thead>\n  <tbody>\n    <tr>\n      <th>1</th>\n      <td>2016-01-20 16:00:00</td>\n      <td>1</td>\n      <td>1</td>\n      <td>81.79</td>\n      <td>0</td>\n    </tr>\n    <tr>\n      <th>2</th>\n      <td>2016-01-20 16:00:00</td>\n      <td>2</td>\n      <td>1</td>\n      <td>106.47</td>\n      <td>0</td>\n    </tr>\n    <tr>\n      <th>3</th>\n      <td>2016-01-20 16:00:00</td>\n      <td>3</td>\n      <td>1</td>\n      <td>121.81</td>\n      <td>0</td>\n    </tr>\n    <tr>\n      <th>4</th>\n      <td>2016-01-20 16:00:00</td>\n      <td>4</td>\n      <td>1</td>\n      <td>140.35</td>\n      <td>0</td>\n    </tr>\n    <tr>\n      <th>5</th>\n      <td>2016-01-20 16:00:00</td>\n      <td>5</td>\n      <td>1</td>\n      <td>25.27</td>\n      <td>0</td>\n    </tr>\n    <tr>\n      <th>...</th>\n      <td>...</td>\n      <td>...</td>\n      <td>...</td>\n      <td>...</td>\n      <td>...</td>\n    </tr>\n    <tr>\n      <th>1252194</th>\n      <td>2018-06-19 10:00:00</td>\n      <td>5</td>\n      <td>10</td>\n      <td>0</td>\n      <td>0</td>\n    </tr>\n    <tr>\n      <th>1252195</th>\n      <td>2018-06-19 10:00:00</td>\n      <td>5</td>\n      <td>11</td>\n      <td>0</td>\n      <td>0</td>\n    </tr>\n    <tr>\n      <th>1252196</th>\n      <td>2018-06-19 10:00:00</td>\n      <td>6</td>\n      <td>9</td>\n      <td>0</td>\n      <td>0</td>\n    </tr>\n    <tr>\n      <th>1252197</th>\n      <td>2018-06-19 10:00:00</td>\n      <td>6</td>\n      <td>10</td>\n      <td>0</td>\n      <td>0</td>\n    </tr>\n    <tr>\n      <th>1252198</th>\n      <td>2018-06-19 10:00:00</td>\n      <td>6</td>\n      <td>11</td>\n      <td>0</td>\n      <td>0</td>\n    </tr>\n  </tbody>\n</table>\n<p>1252198 rows × 5 columns</p>\n</div>"
     },
     "execution_count": 23,
     "metadata": {},
     "output_type": "execute_result"
    }
   ],
   "source": [
    "df = pd.read_json('../data/Archive_Sofia_stations_RAW.json')\n",
    "df.columns = df.iloc[0] # set first row as header\n",
    "df = df.iloc[1: , :] # drop first row\n",
    "df"
   ]
  },
  {
   "cell_type": "code",
   "execution_count": 24,
   "outputs": [],
   "source": [
    "df['station'] = df['station'].astype('int')\n",
    "df['param'] = df['param'].astype('int')"
   ],
   "metadata": {
    "collapsed": false,
    "pycharm": {
     "name": "#%%\n"
    }
   }
  },
  {
   "cell_type": "markdown",
   "source": [
    "# Remove invalid rows"
   ],
   "metadata": {
    "collapsed": false,
    "pycharm": {
     "name": "#%% md\n"
    }
   }
  },
  {
   "cell_type": "code",
   "execution_count": 25,
   "outputs": [
    {
     "name": "stderr",
     "output_type": "stream",
     "text": [
      "C:\\Users\\Pc\\AppData\\Local\\Temp\\ipykernel_8068\\4035978883.py:2: SettingWithCopyWarning: \n",
      "A value is trying to be set on a copy of a slice from a DataFrame\n",
      "\n",
      "See the caveats in the documentation: https://pandas.pydata.org/pandas-docs/stable/user_guide/indexing.html#returning-a-view-versus-a-copy\n",
      "  df.drop(['isinvalid'], axis=1, inplace=True) # drop isinvalid column\n"
     ]
    },
    {
     "data": {
      "text/plain": "0                     timest  station  param   level\n1        2016-01-20 16:00:00        1      1   81.79\n2        2016-01-20 16:00:00        2      1  106.47\n3        2016-01-20 16:00:00        3      1  121.81\n4        2016-01-20 16:00:00        4      1  140.35\n5        2016-01-20 16:00:00        5      1   25.27\n...                      ...      ...    ...     ...\n1252194  2018-06-19 10:00:00        5     10       0\n1252195  2018-06-19 10:00:00        5     11       0\n1252196  2018-06-19 10:00:00        6      9       0\n1252197  2018-06-19 10:00:00        6     10       0\n1252198  2018-06-19 10:00:00        6     11       0\n\n[1241655 rows x 4 columns]",
      "text/html": "<div>\n<style scoped>\n    .dataframe tbody tr th:only-of-type {\n        vertical-align: middle;\n    }\n\n    .dataframe tbody tr th {\n        vertical-align: top;\n    }\n\n    .dataframe thead th {\n        text-align: right;\n    }\n</style>\n<table border=\"1\" class=\"dataframe\">\n  <thead>\n    <tr style=\"text-align: right;\">\n      <th></th>\n      <th>timest</th>\n      <th>station</th>\n      <th>param</th>\n      <th>level</th>\n    </tr>\n  </thead>\n  <tbody>\n    <tr>\n      <th>1</th>\n      <td>2016-01-20 16:00:00</td>\n      <td>1</td>\n      <td>1</td>\n      <td>81.79</td>\n    </tr>\n    <tr>\n      <th>2</th>\n      <td>2016-01-20 16:00:00</td>\n      <td>2</td>\n      <td>1</td>\n      <td>106.47</td>\n    </tr>\n    <tr>\n      <th>3</th>\n      <td>2016-01-20 16:00:00</td>\n      <td>3</td>\n      <td>1</td>\n      <td>121.81</td>\n    </tr>\n    <tr>\n      <th>4</th>\n      <td>2016-01-20 16:00:00</td>\n      <td>4</td>\n      <td>1</td>\n      <td>140.35</td>\n    </tr>\n    <tr>\n      <th>5</th>\n      <td>2016-01-20 16:00:00</td>\n      <td>5</td>\n      <td>1</td>\n      <td>25.27</td>\n    </tr>\n    <tr>\n      <th>...</th>\n      <td>...</td>\n      <td>...</td>\n      <td>...</td>\n      <td>...</td>\n    </tr>\n    <tr>\n      <th>1252194</th>\n      <td>2018-06-19 10:00:00</td>\n      <td>5</td>\n      <td>10</td>\n      <td>0</td>\n    </tr>\n    <tr>\n      <th>1252195</th>\n      <td>2018-06-19 10:00:00</td>\n      <td>5</td>\n      <td>11</td>\n      <td>0</td>\n    </tr>\n    <tr>\n      <th>1252196</th>\n      <td>2018-06-19 10:00:00</td>\n      <td>6</td>\n      <td>9</td>\n      <td>0</td>\n    </tr>\n    <tr>\n      <th>1252197</th>\n      <td>2018-06-19 10:00:00</td>\n      <td>6</td>\n      <td>10</td>\n      <td>0</td>\n    </tr>\n    <tr>\n      <th>1252198</th>\n      <td>2018-06-19 10:00:00</td>\n      <td>6</td>\n      <td>11</td>\n      <td>0</td>\n    </tr>\n  </tbody>\n</table>\n<p>1241655 rows × 4 columns</p>\n</div>"
     },
     "execution_count": 25,
     "metadata": {},
     "output_type": "execute_result"
    }
   ],
   "source": [
    "df = df[df['isinvalid'] == '0']\n",
    "df.drop(['isinvalid'], axis=1, inplace=True) # drop isinvalid column\n",
    "df"
   ],
   "metadata": {
    "collapsed": false,
    "pycharm": {
     "name": "#%%\n"
    }
   }
  },
  {
   "cell_type": "markdown",
   "source": [
    "# Add station coordinates"
   ],
   "metadata": {
    "collapsed": false,
    "pycharm": {
     "name": "#%% md\n"
    }
   }
  },
  {
   "cell_type": "code",
   "execution_count": 26,
   "outputs": [],
   "source": [
    "station_data = {\n",
    "    1: {\n",
    "        'name': 'Druzhba',\n",
    "        'longitude': 23.400164,\n",
    "        'latitude': 42.666508\n",
    "    },\n",
    "    2: {\n",
    "        'name': 'Nadezhda',\n",
    "        'longitude': 23.310972,\n",
    "        'latitude': 42.732292\n",
    "    },\n",
    "    3: {\n",
    "        'name': 'Krasno selo',\n",
    "        'longitude': 23.400164,\n",
    "        'latitude': 42.666508\n",
    "    },\n",
    "    4: {\n",
    "        'name': 'Pavlovo',\n",
    "        'longitude': 23.268403,\n",
    "        'latitude': 42.669797\n",
    "    },\n",
    "    5: {\n",
    "        'name': 'Kopitoto',\n",
    "        'longitude': 23.268403,\n",
    "        'latitude': 42.669797\n",
    "    },\n",
    "    6: {\n",
    "        'name': 'Mladost',\n",
    "        'longitude': 23.383271,\n",
    "        'latitude': 42.655488\n",
    "    },\n",
    "}"
   ],
   "metadata": {
    "collapsed": false,
    "pycharm": {
     "name": "#%%\n"
    }
   }
  },
  {
   "cell_type": "code",
   "execution_count": 27,
   "outputs": [
    {
     "name": "stderr",
     "output_type": "stream",
     "text": [
      "C:\\Users\\Pc\\AppData\\Local\\Temp\\ipykernel_8068\\1391940933.py:10: SettingWithCopyWarning: \n",
      "A value is trying to be set on a copy of a slice from a DataFrame.\n",
      "Try using .loc[row_indexer,col_indexer] = value instead\n",
      "\n",
      "See the caveats in the documentation: https://pandas.pydata.org/pandas-docs/stable/user_guide/indexing.html#returning-a-view-versus-a-copy\n",
      "  df['station_name'] = np.select(\n",
      "C:\\Users\\Pc\\AppData\\Local\\Temp\\ipykernel_8068\\1391940933.py:15: SettingWithCopyWarning: \n",
      "A value is trying to be set on a copy of a slice from a DataFrame.\n",
      "Try using .loc[row_indexer,col_indexer] = value instead\n",
      "\n",
      "See the caveats in the documentation: https://pandas.pydata.org/pandas-docs/stable/user_guide/indexing.html#returning-a-view-versus-a-copy\n",
      "  df['longitude'] = np.select(\n",
      "C:\\Users\\Pc\\AppData\\Local\\Temp\\ipykernel_8068\\1391940933.py:20: SettingWithCopyWarning: \n",
      "A value is trying to be set on a copy of a slice from a DataFrame.\n",
      "Try using .loc[row_indexer,col_indexer] = value instead\n",
      "\n",
      "See the caveats in the documentation: https://pandas.pydata.org/pandas-docs/stable/user_guide/indexing.html#returning-a-view-versus-a-copy\n",
      "  df['latitude'] = np.select(\n"
     ]
    }
   ],
   "source": [
    "conditions = [\n",
    "    (df['station'] == 1),\n",
    "    (df['station'] == 2),\n",
    "    (df['station'] == 3),\n",
    "    (df['station'] == 4),\n",
    "    (df['station'] == 5),\n",
    "    (df['station'] == 6)\n",
    "]\n",
    "\n",
    "df['station_name'] = np.select(\n",
    "    conditions,\n",
    "    [x['name'] for x in station_data.values()]\n",
    ")\n",
    "\n",
    "df['longitude'] = np.select(\n",
    "    conditions,\n",
    "    [x['longitude'] for x in station_data.values()]\n",
    ")\n",
    "\n",
    "df['latitude'] = np.select(\n",
    "    conditions,\n",
    "    [x['latitude'] for x in station_data.values()]\n",
    ")"
   ],
   "metadata": {
    "collapsed": false,
    "pycharm": {
     "name": "#%%\n"
    }
   }
  },
  {
   "cell_type": "code",
   "execution_count": 28,
   "outputs": [
    {
     "data": {
      "text/plain": "0                     timest  station  param   level station_name  longitude  \\\n1        2016-01-20 16:00:00        1      1   81.79      Druzhba  23.400164   \n2        2016-01-20 16:00:00        2      1  106.47     Nadezhda  23.310972   \n3        2016-01-20 16:00:00        3      1  121.81  Krasno selo  23.400164   \n4        2016-01-20 16:00:00        4      1  140.35      Pavlovo  23.268403   \n5        2016-01-20 16:00:00        5      1   25.27     Kopitoto  23.268403   \n...                      ...      ...    ...     ...          ...        ...   \n1252194  2018-06-19 10:00:00        5     10       0     Kopitoto  23.268403   \n1252195  2018-06-19 10:00:00        5     11       0     Kopitoto  23.268403   \n1252196  2018-06-19 10:00:00        6      9       0      Mladost  23.383271   \n1252197  2018-06-19 10:00:00        6     10       0      Mladost  23.383271   \n1252198  2018-06-19 10:00:00        6     11       0      Mladost  23.383271   \n\n0         latitude  \n1        42.666508  \n2        42.732292  \n3        42.666508  \n4        42.669797  \n5        42.669797  \n...            ...  \n1252194  42.669797  \n1252195  42.669797  \n1252196  42.655488  \n1252197  42.655488  \n1252198  42.655488  \n\n[1241655 rows x 7 columns]",
      "text/html": "<div>\n<style scoped>\n    .dataframe tbody tr th:only-of-type {\n        vertical-align: middle;\n    }\n\n    .dataframe tbody tr th {\n        vertical-align: top;\n    }\n\n    .dataframe thead th {\n        text-align: right;\n    }\n</style>\n<table border=\"1\" class=\"dataframe\">\n  <thead>\n    <tr style=\"text-align: right;\">\n      <th></th>\n      <th>timest</th>\n      <th>station</th>\n      <th>param</th>\n      <th>level</th>\n      <th>station_name</th>\n      <th>longitude</th>\n      <th>latitude</th>\n    </tr>\n  </thead>\n  <tbody>\n    <tr>\n      <th>1</th>\n      <td>2016-01-20 16:00:00</td>\n      <td>1</td>\n      <td>1</td>\n      <td>81.79</td>\n      <td>Druzhba</td>\n      <td>23.400164</td>\n      <td>42.666508</td>\n    </tr>\n    <tr>\n      <th>2</th>\n      <td>2016-01-20 16:00:00</td>\n      <td>2</td>\n      <td>1</td>\n      <td>106.47</td>\n      <td>Nadezhda</td>\n      <td>23.310972</td>\n      <td>42.732292</td>\n    </tr>\n    <tr>\n      <th>3</th>\n      <td>2016-01-20 16:00:00</td>\n      <td>3</td>\n      <td>1</td>\n      <td>121.81</td>\n      <td>Krasno selo</td>\n      <td>23.400164</td>\n      <td>42.666508</td>\n    </tr>\n    <tr>\n      <th>4</th>\n      <td>2016-01-20 16:00:00</td>\n      <td>4</td>\n      <td>1</td>\n      <td>140.35</td>\n      <td>Pavlovo</td>\n      <td>23.268403</td>\n      <td>42.669797</td>\n    </tr>\n    <tr>\n      <th>5</th>\n      <td>2016-01-20 16:00:00</td>\n      <td>5</td>\n      <td>1</td>\n      <td>25.27</td>\n      <td>Kopitoto</td>\n      <td>23.268403</td>\n      <td>42.669797</td>\n    </tr>\n    <tr>\n      <th>...</th>\n      <td>...</td>\n      <td>...</td>\n      <td>...</td>\n      <td>...</td>\n      <td>...</td>\n      <td>...</td>\n      <td>...</td>\n    </tr>\n    <tr>\n      <th>1252194</th>\n      <td>2018-06-19 10:00:00</td>\n      <td>5</td>\n      <td>10</td>\n      <td>0</td>\n      <td>Kopitoto</td>\n      <td>23.268403</td>\n      <td>42.669797</td>\n    </tr>\n    <tr>\n      <th>1252195</th>\n      <td>2018-06-19 10:00:00</td>\n      <td>5</td>\n      <td>11</td>\n      <td>0</td>\n      <td>Kopitoto</td>\n      <td>23.268403</td>\n      <td>42.669797</td>\n    </tr>\n    <tr>\n      <th>1252196</th>\n      <td>2018-06-19 10:00:00</td>\n      <td>6</td>\n      <td>9</td>\n      <td>0</td>\n      <td>Mladost</td>\n      <td>23.383271</td>\n      <td>42.655488</td>\n    </tr>\n    <tr>\n      <th>1252197</th>\n      <td>2018-06-19 10:00:00</td>\n      <td>6</td>\n      <td>10</td>\n      <td>0</td>\n      <td>Mladost</td>\n      <td>23.383271</td>\n      <td>42.655488</td>\n    </tr>\n    <tr>\n      <th>1252198</th>\n      <td>2018-06-19 10:00:00</td>\n      <td>6</td>\n      <td>11</td>\n      <td>0</td>\n      <td>Mladost</td>\n      <td>23.383271</td>\n      <td>42.655488</td>\n    </tr>\n  </tbody>\n</table>\n<p>1241655 rows × 7 columns</p>\n</div>"
     },
     "execution_count": 28,
     "metadata": {},
     "output_type": "execute_result"
    }
   ],
   "source": [
    "df"
   ],
   "metadata": {
    "collapsed": false,
    "pycharm": {
     "name": "#%%\n"
    }
   }
  },
  {
   "cell_type": "markdown",
   "source": [
    "# Add parameter information"
   ],
   "metadata": {
    "collapsed": false,
    "pycharm": {
     "name": "#%% md\n"
    }
   }
  },
  {
   "cell_type": "code",
   "execution_count": 29,
   "outputs": [],
   "source": [
    "parameter_data = {\n",
    "    0: 'Particulate matter',\n",
    "    1: 'NO2',\n",
    "    2: 'NO',\n",
    "    3: 'C6H6',\n",
    "    4: 'CO',\n",
    "    5: 'O3',\n",
    "    6: 'SO2',\n",
    "    7: 'Humidity',\n",
    "    8: 'Atmospheric pressure',\n",
    "    9: 'Wind',\n",
    "    10: 'Sun radiation',\n",
    "    11: 'Temperature'\n",
    "}"
   ],
   "metadata": {
    "collapsed": false,
    "pycharm": {
     "name": "#%%\n"
    }
   }
  },
  {
   "cell_type": "code",
   "execution_count": 30,
   "outputs": [
    {
     "name": "stderr",
     "output_type": "stream",
     "text": [
      "C:\\Users\\Pc\\AppData\\Local\\Temp\\ipykernel_8068\\801551603.py:1: SettingWithCopyWarning: \n",
      "A value is trying to be set on a copy of a slice from a DataFrame.\n",
      "Try using .loc[row_indexer,col_indexer] = value instead\n",
      "\n",
      "See the caveats in the documentation: https://pandas.pydata.org/pandas-docs/stable/user_guide/indexing.html#returning-a-view-versus-a-copy\n",
      "  df['param_name'] = [\n"
     ]
    }
   ],
   "source": [
    "df['param_name'] = [\n",
    "    parameter_data[df.iloc[x]['param']] for x in range(df.shape[0])\n",
    "]"
   ],
   "metadata": {
    "collapsed": false,
    "pycharm": {
     "name": "#%%\n"
    }
   }
  },
  {
   "cell_type": "code",
   "execution_count": 31,
   "outputs": [
    {
     "data": {
      "text/plain": "0                     timest  station  param   level station_name  longitude  \\\n1        2016-01-20 16:00:00        1      1   81.79      Druzhba  23.400164   \n2        2016-01-20 16:00:00        2      1  106.47     Nadezhda  23.310972   \n3        2016-01-20 16:00:00        3      1  121.81  Krasno selo  23.400164   \n4        2016-01-20 16:00:00        4      1  140.35      Pavlovo  23.268403   \n5        2016-01-20 16:00:00        5      1   25.27     Kopitoto  23.268403   \n...                      ...      ...    ...     ...          ...        ...   \n1252194  2018-06-19 10:00:00        5     10       0     Kopitoto  23.268403   \n1252195  2018-06-19 10:00:00        5     11       0     Kopitoto  23.268403   \n1252196  2018-06-19 10:00:00        6      9       0      Mladost  23.383271   \n1252197  2018-06-19 10:00:00        6     10       0      Mladost  23.383271   \n1252198  2018-06-19 10:00:00        6     11       0      Mladost  23.383271   \n\n0         latitude     param_name  \n1        42.666508            NO2  \n2        42.732292            NO2  \n3        42.666508            NO2  \n4        42.669797            NO2  \n5        42.669797            NO2  \n...            ...            ...  \n1252194  42.669797  Sun radiation  \n1252195  42.669797    Temperature  \n1252196  42.655488           Wind  \n1252197  42.655488  Sun radiation  \n1252198  42.655488    Temperature  \n\n[1241655 rows x 8 columns]",
      "text/html": "<div>\n<style scoped>\n    .dataframe tbody tr th:only-of-type {\n        vertical-align: middle;\n    }\n\n    .dataframe tbody tr th {\n        vertical-align: top;\n    }\n\n    .dataframe thead th {\n        text-align: right;\n    }\n</style>\n<table border=\"1\" class=\"dataframe\">\n  <thead>\n    <tr style=\"text-align: right;\">\n      <th></th>\n      <th>timest</th>\n      <th>station</th>\n      <th>param</th>\n      <th>level</th>\n      <th>station_name</th>\n      <th>longitude</th>\n      <th>latitude</th>\n      <th>param_name</th>\n    </tr>\n  </thead>\n  <tbody>\n    <tr>\n      <th>1</th>\n      <td>2016-01-20 16:00:00</td>\n      <td>1</td>\n      <td>1</td>\n      <td>81.79</td>\n      <td>Druzhba</td>\n      <td>23.400164</td>\n      <td>42.666508</td>\n      <td>NO2</td>\n    </tr>\n    <tr>\n      <th>2</th>\n      <td>2016-01-20 16:00:00</td>\n      <td>2</td>\n      <td>1</td>\n      <td>106.47</td>\n      <td>Nadezhda</td>\n      <td>23.310972</td>\n      <td>42.732292</td>\n      <td>NO2</td>\n    </tr>\n    <tr>\n      <th>3</th>\n      <td>2016-01-20 16:00:00</td>\n      <td>3</td>\n      <td>1</td>\n      <td>121.81</td>\n      <td>Krasno selo</td>\n      <td>23.400164</td>\n      <td>42.666508</td>\n      <td>NO2</td>\n    </tr>\n    <tr>\n      <th>4</th>\n      <td>2016-01-20 16:00:00</td>\n      <td>4</td>\n      <td>1</td>\n      <td>140.35</td>\n      <td>Pavlovo</td>\n      <td>23.268403</td>\n      <td>42.669797</td>\n      <td>NO2</td>\n    </tr>\n    <tr>\n      <th>5</th>\n      <td>2016-01-20 16:00:00</td>\n      <td>5</td>\n      <td>1</td>\n      <td>25.27</td>\n      <td>Kopitoto</td>\n      <td>23.268403</td>\n      <td>42.669797</td>\n      <td>NO2</td>\n    </tr>\n    <tr>\n      <th>...</th>\n      <td>...</td>\n      <td>...</td>\n      <td>...</td>\n      <td>...</td>\n      <td>...</td>\n      <td>...</td>\n      <td>...</td>\n      <td>...</td>\n    </tr>\n    <tr>\n      <th>1252194</th>\n      <td>2018-06-19 10:00:00</td>\n      <td>5</td>\n      <td>10</td>\n      <td>0</td>\n      <td>Kopitoto</td>\n      <td>23.268403</td>\n      <td>42.669797</td>\n      <td>Sun radiation</td>\n    </tr>\n    <tr>\n      <th>1252195</th>\n      <td>2018-06-19 10:00:00</td>\n      <td>5</td>\n      <td>11</td>\n      <td>0</td>\n      <td>Kopitoto</td>\n      <td>23.268403</td>\n      <td>42.669797</td>\n      <td>Temperature</td>\n    </tr>\n    <tr>\n      <th>1252196</th>\n      <td>2018-06-19 10:00:00</td>\n      <td>6</td>\n      <td>9</td>\n      <td>0</td>\n      <td>Mladost</td>\n      <td>23.383271</td>\n      <td>42.655488</td>\n      <td>Wind</td>\n    </tr>\n    <tr>\n      <th>1252197</th>\n      <td>2018-06-19 10:00:00</td>\n      <td>6</td>\n      <td>10</td>\n      <td>0</td>\n      <td>Mladost</td>\n      <td>23.383271</td>\n      <td>42.655488</td>\n      <td>Sun radiation</td>\n    </tr>\n    <tr>\n      <th>1252198</th>\n      <td>2018-06-19 10:00:00</td>\n      <td>6</td>\n      <td>11</td>\n      <td>0</td>\n      <td>Mladost</td>\n      <td>23.383271</td>\n      <td>42.655488</td>\n      <td>Temperature</td>\n    </tr>\n  </tbody>\n</table>\n<p>1241655 rows × 8 columns</p>\n</div>"
     },
     "execution_count": 31,
     "metadata": {},
     "output_type": "execute_result"
    }
   ],
   "source": [
    "df"
   ],
   "metadata": {
    "collapsed": false,
    "pycharm": {
     "name": "#%%\n"
    }
   }
  },
  {
   "cell_type": "code",
   "execution_count": 33,
   "outputs": [],
   "source": [
    "df.to_csv('../data/Archive_Sofia_stations_processed.csv', index=False)"
   ],
   "metadata": {
    "collapsed": false,
    "pycharm": {
     "name": "#%%\n"
    }
   }
  }
 ],
 "metadata": {
  "kernelspec": {
   "display_name": "Python 3",
   "language": "python",
   "name": "python3"
  },
  "language_info": {
   "codemirror_mode": {
    "name": "ipython",
    "version": 2
   },
   "file_extension": ".py",
   "mimetype": "text/x-python",
   "name": "python",
   "nbconvert_exporter": "python",
   "pygments_lexer": "ipython2",
   "version": "2.7.6"
  }
 },
 "nbformat": 4,
 "nbformat_minor": 0
}